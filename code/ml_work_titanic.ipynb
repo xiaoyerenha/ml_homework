{
 "cells": [
  {
   "cell_type": "code",
   "execution_count": 1,
   "id": "b5ecc24b",
   "metadata": {},
   "outputs": [],
   "source": [
    "# 忽略警告提示\n",
    "import warnings\n",
    "warnings.filterwarnings('ignore')"
   ]
  },
  {
   "cell_type": "code",
   "execution_count": 2,
   "id": "107fac66",
   "metadata": {},
   "outputs": [
    {
     "data": {
      "text/plain": [
       "'\\nfrom xgboost import XGBClassifier\\nfrom sklearn.naive_bayes import GaussianNB\\nfrom sklearn.model_selection import GridSearchCV\\n'"
      ]
     },
     "execution_count": 2,
     "metadata": {},
     "output_type": "execute_result"
    }
   ],
   "source": [
    "# 导入处理数据包\n",
    "import matplotlib.pyplot as plt\n",
    "import pandas as pd\n",
    "import numpy as np\n",
    "\n",
    "from sklearn.model_selection import train_test_split\n",
    "\n",
    "from sklearn.linear_model import LogisticRegression\n",
    "from sklearn.svm import SVC\n",
    "from sklearn.tree import DecisionTreeClassifier\n",
    "from sklearn.ensemble import RandomForestClassifier\n",
    "\n",
    "'''\n",
    "from xgboost import XGBClassifier\n",
    "from sklearn.naive_bayes import GaussianNB\n",
    "from sklearn.model_selection import GridSearchCV\n",
    "'''"
   ]
  },
  {
   "cell_type": "code",
   "execution_count": 3,
   "id": "0746d2a1",
   "metadata": {},
   "outputs": [
    {
     "name": "stdout",
     "output_type": "stream",
     "text": [
      "训练数据集： (891, 12) 测试数据集： (418, 11)\n"
     ]
    }
   ],
   "source": [
    "# 导入数据\n",
    "train = pd.read_csv('train.csv')\n",
    "test = pd.read_csv('test.csv')\n",
    "\n",
    "print('训练数据集：', train.shape, '测试数据集：', test.shape)"
   ]
  },
  {
   "cell_type": "code",
   "execution_count": 4,
   "id": "e8f3c4d3",
   "metadata": {},
   "outputs": [
    {
     "data": {
      "image/png": "[encoded data removed]",
      "text/plain": [
       "<Figure size 432x288 with 2 Axes>"
      ]
     },
     "metadata": {
      "needs_background": "light"
     },
     "output_type": "display_data"
    }
   ],
   "source": [
    "plt.rcParams['font.sans-serif'] = [u'SimHei']\n",
    "plt.rcParams['axes.unicode_minus'] = False\n",
    "\n",
    "surviveDf = train.groupby(\"Survived\")['Survived'].count()\n",
    "fig = plt.figure()\n",
    "ax1 = fig.add_subplot(1, 2, 1)\n",
    "surviveDf.plot(ax=ax1, kind='bar')\n",
    "plt.ylabel(\"人数\")\n",
    "plt.title(\"生存人数分布\")\n",
    "plt.xticks(range(len(surviveDf)), ['遇难', '存活'], rotation=360)\n",
    "ax2 = fig.add_subplot(1, 2, 2)\n",
    "surviveDf.plot(ax=ax2, kind='pie', labels=['遇难', '存活'], autopct='%1.2f%%')\n",
    "plt.axis(\"equal\")\n",
    "plt.title(\"生存率分布情况\")\n",
    "plt.show()"
   ]
  },
  {
   "cell_type": "code",
   "execution_count": 5,
   "id": "9df37127",
   "metadata": {
    "scrolled": true
   },
   "outputs": [
    {
     "name": "stdout",
     "output_type": "stream",
     "text": [
      "合并后的数据集： (1309, 12)\n",
      "<class 'pandas.core.frame.DataFrame'>\n",
      "RangeIndex: 1309 entries, 0 to 1308\n",
      "Data columns (total 12 columns):\n",
      " #   Column       Non-Null Count  Dtype  \n",
      "---  ------       --------------  -----  \n",
      " 0   PassengerId  1309 non-null   int64  \n",
      " 1   Survived     891 non-null    float64\n",
      " 2   Pclass       1309 non-null   int64  \n",
      " 3   Name         1309 non-null   object \n",
      " 4   Sex          1309 non-null   object \n",
      " 5   Age          1046 non-null   float64\n",
      " 6   SibSp        1309 non-null   int64  \n",
      " 7   Parch        1309 non-null   int64  \n",
      " 8   Ticket       1309 non-null   object \n",
      " 9   Fare         1308 non-null   float64\n",
      " 10  Cabin        295 non-null    object \n",
      " 11  Embarked     1307 non-null   object \n",
      "dtypes: float64(3), int64(4), object(5)\n",
      "memory usage: 122.8+ KB\n",
      "None\n"
     ]
    }
   ],
   "source": [
    "# 合并数据集，方便同时对两个数据集进行清洗\n",
    "full = train.append(test, ignore_index=True)\n",
    "\n",
    "print('合并后的数据集：', full.shape)\n",
    "\n",
    "#full.head()  # 查看数据\n",
    "#print(full.describe())\n",
    "print(full.info())"
   ]
  },
  {
   "cell_type": "code",
   "execution_count": 6,
   "id": "b96b631f",
   "metadata": {},
   "outputs": [
    {
     "data": {
      "text/html": [
       "<div>\n",
       "<style scoped>\n",
       "    .dataframe tbody tr th:only-of-type {\n",
       "        vertical-align: middle;\n",
       "    }\n",
       "\n",
       "    .dataframe tbody tr th {\n",
       "        vertical-align: top;\n",
       "    }\n",
       "\n",
       "    .dataframe thead th {\n",
       "        text-align: right;\n",
       "    }\n",
       "</style>\n",
       "<table border=\"1\" class=\"dataframe\">\n",
       "  <thead>\n",
       "    <tr style=\"text-align: right;\">\n",
       "      <th></th>\n",
       "      <th>PassengerId</th>\n",
       "      <th>Survived</th>\n",
       "      <th>Pclass</th>\n",
       "      <th>Name</th>\n",
       "      <th>Sex</th>\n",
       "      <th>Age</th>\n",
       "      <th>SibSp</th>\n",
       "      <th>Parch</th>\n",
       "      <th>Ticket</th>\n",
       "      <th>Fare</th>\n",
       "      <th>Cabin</th>\n",
       "      <th>Embarked</th>\n",
       "    </tr>\n",
       "  </thead>\n",
       "  <tbody>\n",
       "    <tr>\n",
       "      <th>0</th>\n",
       "      <td>1</td>\n",
       "      <td>0.0</td>\n",
       "      <td>3</td>\n",
       "      <td>Braund, Mr. Owen Harris</td>\n",
       "      <td>male</td>\n",
       "      <td>22.0</td>\n",
       "      <td>1</td>\n",
       "      <td>0</td>\n",
       "      <td>A/5 21171</td>\n",
       "      <td>7.2500</td>\n",
       "      <td>NaN</td>\n",
       "      <td>S</td>\n",
       "    </tr>\n",
       "    <tr>\n",
       "      <th>1</th>\n",
       "      <td>2</td>\n",
       "      <td>1.0</td>\n",
       "      <td>1</td>\n",
       "      <td>Cumings, Mrs. John Bradley (Florence Briggs Th...</td>\n",
       "      <td>female</td>\n",
       "      <td>38.0</td>\n",
       "      <td>1</td>\n",
       "      <td>0</td>\n",
       "      <td>PC 17599</td>\n",
       "      <td>71.2833</td>\n",
       "      <td>C85</td>\n",
       "      <td>C</td>\n",
       "    </tr>\n",
       "    <tr>\n",
       "      <th>2</th>\n",
       "      <td>3</td>\n",
       "      <td>1.0</td>\n",
       "      <td>3</td>\n",
       "      <td>Heikkinen, Miss. Laina</td>\n",
       "      <td>female</td>\n",
       "      <td>26.0</td>\n",
       "      <td>0</td>\n",
       "      <td>0</td>\n",
       "      <td>STON/O2. 3101282</td>\n",
       "      <td>7.9250</td>\n",
       "      <td>NaN</td>\n",
       "      <td>S</td>\n",
       "    </tr>\n",
       "    <tr>\n",
       "      <th>3</th>\n",
       "      <td>4</td>\n",
       "      <td>1.0</td>\n",
       "      <td>1</td>\n",
       "      <td>Futrelle, Mrs. Jacques Heath (Lily May Peel)</td>\n",
       "      <td>female</td>\n",
       "      <td>35.0</td>\n",
       "      <td>1</td>\n",
       "      <td>0</td>\n",
       "      <td>113803</td>\n",
       "      <td>53.1000</td>\n",
       "      <td>C123</td>\n",
       "      <td>S</td>\n",
       "    </tr>\n",
       "    <tr>\n",
       "      <th>4</th>\n",
       "      <td>5</td>\n",
       "      <td>0.0</td>\n",
       "      <td>3</td>\n",
       "      <td>Allen, Mr. William Henry</td>\n",
       "      <td>male</td>\n",
       "      <td>35.0</td>\n",
       "      <td>0</td>\n",
       "      <td>0</td>\n",
       "      <td>373450</td>\n",
       "      <td>8.0500</td>\n",
       "      <td>NaN</td>\n",
       "      <td>S</td>\n",
       "    </tr>\n",
       "  </tbody>\n",
       "</table>\n",
       "</div>"
      ],
      "text/plain": [
       "   PassengerId  Survived  Pclass  \\\n",
       "0            1       0.0       3   \n",
       "1            2       1.0       1   \n",
       "2            3       1.0       3   \n",
       "3            4       1.0       1   \n",
       "4            5       0.0       3   \n",
       "\n",
       "                                                Name     Sex   Age  SibSp  \\\n",
       "0                            Braund, Mr. Owen Harris    male  22.0      1   \n",
       "1  Cumings, Mrs. John Bradley (Florence Briggs Th...  female  38.0      1   \n",
       "2                             Heikkinen, Miss. Laina  female  26.0      0   \n",
       "3       Futrelle, Mrs. Jacques Heath (Lily May Peel)  female  35.0      1   \n",
       "4                           Allen, Mr. William Henry    male  35.0      0   \n",
       "\n",
       "   Parch            Ticket     Fare Cabin Embarked  \n",
       "0      0         A/5 21171   7.2500   NaN        S  \n",
       "1      0          PC 17599  71.2833   C85        C  \n",
       "2      0  STON/O2. 3101282   7.9250   NaN        S  \n",
       "3      0            113803  53.1000  C123        S  \n",
       "4      0            373450   8.0500   NaN        S  "
      ]
     },
     "execution_count": 6,
     "metadata": {},
     "output_type": "execute_result"
    }
   ],
   "source": [
    "full.head()"
   ]
  },
  {
   "cell_type": "code",
   "execution_count": 7,
   "id": "f613a341",
   "metadata": {},
   "outputs": [
    {
     "name": "stdout",
     "output_type": "stream",
     "text": [
      "0    S\n",
      "1    C\n",
      "2    S\n",
      "3    S\n",
      "4    S\n",
      "Name: Embarked, dtype: object\n",
      "S    914\n",
      "C    270\n",
      "Q    123\n",
      "Name: Embarked, dtype: int64\n",
      "0     NaN\n",
      "1     C85\n",
      "2     NaN\n",
      "3    C123\n",
      "4     NaN\n",
      "Name: Cabin, dtype: object\n",
      "<class 'pandas.core.frame.DataFrame'>\n",
      "RangeIndex: 1309 entries, 0 to 1308\n",
      "Data columns (total 12 columns):\n",
      " #   Column       Non-Null Count  Dtype  \n",
      "---  ------       --------------  -----  \n",
      " 0   PassengerId  1309 non-null   int64  \n",
      " 1   Survived     891 non-null    float64\n",
      " 2   Pclass       1309 non-null   int64  \n",
      " 3   Name         1309 non-null   object \n",
      " 4   Sex          1309 non-null   object \n",
      " 5   Age          1309 non-null   float64\n",
      " 6   SibSp        1309 non-null   int64  \n",
      " 7   Parch        1309 non-null   int64  \n",
      " 8   Ticket       1309 non-null   object \n",
      " 9   Fare         1309 non-null   float64\n",
      " 10  Cabin        1309 non-null   object \n",
      " 11  Embarked     1309 non-null   object \n",
      "dtypes: float64(3), int64(4), object(5)\n",
      "memory usage: 122.8+ KB\n",
      "None\n"
     ]
    }
   ],
   "source": [
    "# 数据预处理\n",
    "# 对于数据类型，处理缺失值最简单的方法就是用平均数来填充缺失值\n",
    "full['Age'] = full['Age'].fillna(full['Age'].mean())\n",
    "full['Fare'] = full['Fare'].fillna(full['Fare'].mean())\n",
    "\n",
    "print(full['Embarked'].head())  # 缺失值较少\n",
    "print(full['Embarked'].value_counts())\n",
    "full['Embarked'] = full['Embarked'].fillna('S')\n",
    "print(full['Cabin'].head())  # 缺失值较多，U表示未知\n",
    "full['Cabin'] = full['Cabin'].fillna('U')\n",
    "\n",
    "print(full.info())"
   ]
  },
  {
   "cell_type": "code",
   "execution_count": 8,
   "id": "232dd6df",
   "metadata": {},
   "outputs": [
    {
     "name": "stdout",
     "output_type": "stream",
     "text": [
      "Empty DataFrame\n",
      "Columns: []\n",
      "Index: []\n",
      "   Embarked_C  Embarked_Q  Embarked_S\n",
      "0           0           0           1\n",
      "1           1           0           0\n",
      "2           0           0           1\n",
      "3           0           0           1\n",
      "4           0           0           1\n"
     ]
    }
   ],
   "source": [
    "# 对分类数据处理：用数值代替类别，并进行One-hot编码\n",
    "# 乘客性别（Sex）： 男性male，女性female\n",
    "# 登船港口（Embarked）：出发地点S=英国南安普顿Southampton，途径地点1：C=法国 瑟堡市Cherbourg，出发地点2：Q=爱尔兰 昆士敦Queenstown\n",
    "# 客舱等级（Pclass）：1=1等舱，2=2等舱，3=3等舱\n",
    "sex_mapDict = {'male': 1, 'female': 0}\n",
    "full['Sex'] = full['Sex'].map(sex_mapDict)\n",
    "\n",
    "# 存放提取后的特征\n",
    "embarkedDf = pd.DataFrame()\n",
    "print(embarkedDf)\n",
    "# one-hot编码，产生虚拟变量，列名前缀Embarked\n",
    "embarkedDf = pd.get_dummies(full['Embarked'], prefix='Embarked')\n",
    "print(embarkedDf.head())\n",
    "full = pd.concat([full, embarkedDf], axis=1)\n",
    "full.drop('Embarked', axis=1, inplace=True)  # Embarked由编码产生的虚拟变量代替\n",
    "\n",
    "# 存放提取后的特征\n",
    "pclassDf = pd.DataFrame()\n",
    "# one-hot编码，产生虚拟变量，列名前缀Pclass\n",
    "pclassDf = pd.get_dummies(full['Pclass'], prefix='Pclass')\n",
    "full = pd.concat([full, pclassDf], axis=1)\n",
    "full.drop('Pclass', axis=1, inplace=True)  # Pclass由编码产生的虚拟变量代替"
   ]
  },
  {
   "cell_type": "code",
   "execution_count": 9,
   "id": "e4ec43cf",
   "metadata": {},
   "outputs": [
    {
     "name": "stdout",
     "output_type": "stream",
     "text": [
      "(1309, 33)\n"
     ]
    }
   ],
   "source": [
    "# 分类数据，字符串类型\n",
    "# 从姓名中获取头衔\n",
    "def getTitle(name):\n",
    "    str1 = name.split(',')[1]  # Mr. Owen Harris\n",
    "    str2 = str1.split('.')[0]  # Mr\n",
    "    # strip()用于移除字符串头尾指定字符（默认为空格）\n",
    "    str3 = str2.strip()\n",
    "    return str3\n",
    "# 存放提取后的特征\n",
    "titleDf = pd.DataFrame()\n",
    "# map函数：对Series每个数据应用自定义的函数计算\n",
    "titleDf['Title'] = full['Name'].map(getTitle)\n",
    "# 姓名中头衔字符串与定义头衔类别的映射关系\n",
    "title_mapDict = {\n",
    "    \"Capt\": \"Officer\",\n",
    "    \"Col\": \"Officer\",\n",
    "    \"Major\": \"Officer\",\n",
    "    \"Jonkheer\": \"Royalty\",\n",
    "    \"Don\": \"Royalty\",\n",
    "    \"Sir\": \"Royalty\",\n",
    "    \"Dr\": \"Officer\",\n",
    "    \"Rev\": \"Officer\",\n",
    "    \"the Countess\": \"Royalty\",\n",
    "    \"Dona\": \"Royalty\",\n",
    "    \"Mme\": \"Mrs\",\n",
    "    \"Mlle\": \"Miss\",\n",
    "    \"Ms\": \"Mrs\",\n",
    "    \"Mr\": \"Mr\",\n",
    "    \"Mrs\": \"Mrs\",\n",
    "    \"Miss\": \"Miss\",\n",
    "    \"Master\": \"Master\",\n",
    "    \"Lady\": \"Royalty\"\n",
    "}\n",
    "# map函数：对Series每个数据应用自定义的函数计算\n",
    "titleDf['Title'] = titleDf['Title'].map(title_mapDict)\n",
    "# 进行one-hot编码\n",
    "titleDf = pd.get_dummies(titleDf['Title'])\n",
    "full = pd.concat([full, titleDf], axis=1)\n",
    "full.drop('Name', axis=1, inplace=True)\n",
    "\n",
    "# 存放客舱号信息\n",
    "cabinDf = pd.DataFrame()\n",
    "full['Cabin'] = full['Cabin'].map(lambda c: c[0])\n",
    "cabinDf = pd.get_dummies(full['Cabin'], prefix='Cabin')\n",
    "full = pd.concat([full, cabinDf], axis=1)\n",
    "full.drop('Cabin', axis=1, inplace=True)\n",
    "\n",
    "# 存放家庭信息\n",
    "familyDf = pd.DataFrame()\n",
    "familyDf['FamilySize'] = full['Parch'] + full['SibSp'] + 1\n",
    "# if条件为真的时候返回if前面内容，否则返回0\n",
    "familyDf['Family_Small'] = familyDf['FamilySize'].map(lambda s: 1 if s == 1 else 0)\n",
    "familyDf['Family_Medium'] = familyDf['FamilySize'].map(lambda s: 1 if 2 <= s <= 4 else 0)\n",
    "familyDf['Family_Large'] = familyDf['FamilySize'].map(lambda s: 1 if 5 <= s else 0)\n",
    "full = pd.concat([full, familyDf], axis=1)\n",
    "\n",
    "print(full.shape)"
   ]
  },
  {
   "cell_type": "code",
   "execution_count": 10,
   "id": "9c3ccdfa",
   "metadata": {},
   "outputs": [
    {
     "data": {
      "text/html": [
       "<div>\n",
       "<style scoped>\n",
       "    .dataframe tbody tr th:only-of-type {\n",
       "        vertical-align: middle;\n",
       "    }\n",
       "\n",
       "    .dataframe tbody tr th {\n",
       "        vertical-align: top;\n",
       "    }\n",
       "\n",
       "    .dataframe thead th {\n",
       "        text-align: right;\n",
       "    }\n",
       "</style>\n",
       "<table border=\"1\" class=\"dataframe\">\n",
       "  <thead>\n",
       "    <tr style=\"text-align: right;\">\n",
       "      <th></th>\n",
       "      <th>Master</th>\n",
       "      <th>Miss</th>\n",
       "      <th>Mr</th>\n",
       "      <th>Mrs</th>\n",
       "      <th>Officer</th>\n",
       "      <th>Royalty</th>\n",
       "    </tr>\n",
       "  </thead>\n",
       "  <tbody>\n",
       "    <tr>\n",
       "      <th>0</th>\n",
       "      <td>0</td>\n",
       "      <td>0</td>\n",
       "      <td>1</td>\n",
       "      <td>0</td>\n",
       "      <td>0</td>\n",
       "      <td>0</td>\n",
       "    </tr>\n",
       "    <tr>\n",
       "      <th>1</th>\n",
       "      <td>0</td>\n",
       "      <td>0</td>\n",
       "      <td>0</td>\n",
       "      <td>1</td>\n",
       "      <td>0</td>\n",
       "      <td>0</td>\n",
       "    </tr>\n",
       "    <tr>\n",
       "      <th>2</th>\n",
       "      <td>0</td>\n",
       "      <td>1</td>\n",
       "      <td>0</td>\n",
       "      <td>0</td>\n",
       "      <td>0</td>\n",
       "      <td>0</td>\n",
       "    </tr>\n",
       "    <tr>\n",
       "      <th>3</th>\n",
       "      <td>0</td>\n",
       "      <td>0</td>\n",
       "      <td>0</td>\n",
       "      <td>1</td>\n",
       "      <td>0</td>\n",
       "      <td>0</td>\n",
       "    </tr>\n",
       "    <tr>\n",
       "      <th>4</th>\n",
       "      <td>0</td>\n",
       "      <td>0</td>\n",
       "      <td>1</td>\n",
       "      <td>0</td>\n",
       "      <td>0</td>\n",
       "      <td>0</td>\n",
       "    </tr>\n",
       "  </tbody>\n",
       "</table>\n",
       "</div>"
      ],
      "text/plain": [
       "   Master  Miss  Mr  Mrs  Officer  Royalty\n",
       "0       0     0   1    0        0        0\n",
       "1       0     0   0    1        0        0\n",
       "2       0     1   0    0        0        0\n",
       "3       0     0   0    1        0        0\n",
       "4       0     0   1    0        0        0"
      ]
     },
     "execution_count": 10,
     "metadata": {},
     "output_type": "execute_result"
    }
   ],
   "source": [
    "titleDf.head()"
   ]
  },
  {
   "cell_type": "code",
   "execution_count": 11,
   "id": "27c9908c",
   "metadata": {},
   "outputs": [
    {
     "name": "stdout",
     "output_type": "stream",
     "text": [
      "               PassengerId  Survived       Sex       Age     SibSp     Parch  \\\n",
      "PassengerId       1.000000 -0.005007  0.013406  0.025731 -0.055224  0.008942   \n",
      "Survived         -0.005007  1.000000 -0.543351 -0.070323 -0.035322  0.081629   \n",
      "Sex               0.013406 -0.543351  1.000000  0.057397 -0.109609 -0.213125   \n",
      "Age               0.025731 -0.070323  0.057397  1.000000 -0.190747 -0.130872   \n",
      "SibSp            -0.055224 -0.035322 -0.109609 -0.190747  1.000000  0.373587   \n",
      "Parch             0.008942  0.081629 -0.213125 -0.130872  0.373587  1.000000   \n",
      "Fare              0.031416  0.257307 -0.185484  0.171521  0.160224  0.221522   \n",
      "Embarked_C        0.048101  0.168240 -0.066564  0.076179 -0.048396 -0.008635   \n",
      "Embarked_Q        0.011585  0.003650 -0.088651 -0.012718 -0.048678 -0.100943   \n",
      "Embarked_S       -0.049836 -0.149683  0.115193 -0.059153  0.073709  0.071881   \n",
      "Pclass_1          0.026495  0.285904 -0.107371  0.362587 -0.034256 -0.013033   \n",
      "Pclass_2          0.022714  0.093349 -0.028862 -0.014193 -0.052419 -0.010057   \n",
      "Pclass_3         -0.041544 -0.322308  0.116562 -0.302093  0.072610  0.019521   \n",
      "Master            0.002254  0.085221  0.164375 -0.363923  0.329171  0.253482   \n",
      "Miss             -0.050027  0.332795 -0.672819 -0.254146  0.077564  0.066473   \n",
      "Mr                0.014116 -0.549199  0.870678  0.165476 -0.243104 -0.304780   \n",
      "Mrs               0.033299  0.344935 -0.571176  0.198091  0.061643  0.213491   \n",
      "Officer           0.002231 -0.031316  0.087288  0.162818 -0.013813 -0.032631   \n",
      "Royalty           0.004400  0.033391 -0.020408  0.059466 -0.010787 -0.030197   \n",
      "Cabin_A          -0.002831  0.022287  0.047561  0.125177 -0.039808 -0.030707   \n",
      "Cabin_B           0.015895  0.175095 -0.094453  0.113458 -0.011569  0.073051   \n",
      "Cabin_C           0.006092  0.114652 -0.077473  0.167993  0.048616  0.009601   \n",
      "Cabin_D           0.000549  0.150716 -0.057396  0.132886 -0.015727 -0.027385   \n",
      "Cabin_E          -0.008136  0.145321 -0.040340  0.106600 -0.027180  0.001084   \n",
      "Cabin_F           0.000306  0.057935 -0.006655 -0.072644 -0.008619  0.020481   \n",
      "Cabin_G          -0.045949  0.016040 -0.083285 -0.085977  0.006015  0.058325   \n",
      "Cabin_T          -0.023049 -0.026456  0.020558  0.032461 -0.013247 -0.012304   \n",
      "Cabin_U           0.000208 -0.316912  0.137396 -0.271918  0.009064 -0.036806   \n",
      "FamilySize       -0.031437  0.016639 -0.188583 -0.196996  0.861952  0.792296   \n",
      "Family_Small      0.028546 -0.203367  0.284537  0.116675 -0.591077 -0.549022   \n",
      "Family_Medium     0.002975  0.279855 -0.255196 -0.038189  0.253590  0.248532   \n",
      "Family_Large     -0.063415 -0.125147 -0.077748 -0.161210  0.699681  0.624627   \n",
      "\n",
      "                   Fare  Embarked_C  Embarked_Q  Embarked_S  ...   Cabin_D  \\\n",
      "PassengerId    0.031416    0.048101    0.011585   -0.049836  ...  0.000549   \n",
      "Survived       0.257307    0.168240    0.003650   -0.149683  ...  0.150716   \n",
      "Sex           -0.185484   -0.066564   -0.088651    0.115193  ... -0.057396   \n",
      "Age            0.171521    0.076179   -0.012718   -0.059153  ...  0.132886   \n",
      "SibSp          0.160224   -0.048396   -0.048678    0.073709  ... -0.015727   \n",
      "Parch          0.221522   -0.008635   -0.100943    0.071881  ... -0.027385   \n",
      "Fare           1.000000    0.286241   -0.130054   -0.169894  ...  0.072737   \n",
      "Embarked_C     0.286241    1.000000   -0.164166   -0.778262  ...  0.107782   \n",
      "Embarked_Q    -0.130054   -0.164166    1.000000   -0.491656  ... -0.061459   \n",
      "Embarked_S    -0.169894   -0.778262   -0.491656    1.000000  ... -0.056023   \n",
      "Pclass_1       0.599956    0.325722   -0.166101   -0.181800  ...  0.275698   \n",
      "Pclass_2      -0.121372   -0.134675   -0.121973    0.196532  ... -0.037929   \n",
      "Pclass_3      -0.419616   -0.171430    0.243706   -0.003805  ... -0.207455   \n",
      "Master         0.011596   -0.014172   -0.009091    0.018297  ... -0.042192   \n",
      "Miss           0.092051   -0.014351    0.198804   -0.113886  ... -0.012516   \n",
      "Mr            -0.192192   -0.065538   -0.080224    0.108924  ... -0.030261   \n",
      "Mrs            0.139235    0.098379   -0.100374   -0.022950  ...  0.080393   \n",
      "Officer        0.028696    0.003678   -0.003212   -0.001202  ...  0.006055   \n",
      "Royalty        0.026214    0.077213   -0.021853   -0.054250  ... -0.012950   \n",
      "Cabin_A        0.020094    0.094914   -0.042105   -0.056984  ... -0.024952   \n",
      "Cabin_B        0.393743    0.161595   -0.073613   -0.095790  ... -0.043624   \n",
      "Cabin_C        0.401370    0.158043   -0.059151   -0.101861  ... -0.053083   \n",
      "Cabin_D        0.072737    0.107782   -0.061459   -0.056023  ...  1.000000   \n",
      "Cabin_E        0.073949    0.027566   -0.042877    0.002960  ... -0.034317   \n",
      "Cabin_F       -0.037567   -0.020010   -0.020282    0.030575  ... -0.024369   \n",
      "Cabin_G       -0.022857   -0.031566   -0.019941    0.040560  ... -0.011817   \n",
      "Cabin_T        0.001179   -0.014095   -0.008904    0.018111  ... -0.005277   \n",
      "Cabin_U       -0.507197   -0.258257    0.142369    0.137351  ... -0.353822   \n",
      "FamilySize     0.226465   -0.036553   -0.087190    0.087771  ... -0.025313   \n",
      "Family_Small  -0.274826   -0.107874    0.127214    0.014246  ... -0.074310   \n",
      "Family_Medium  0.197281    0.159594   -0.122491   -0.062909  ...  0.102432   \n",
      "Family_Large   0.170853   -0.092825   -0.018423    0.093671  ... -0.049336   \n",
      "\n",
      "                Cabin_E   Cabin_F   Cabin_G   Cabin_T   Cabin_U  FamilySize  \\\n",
      "PassengerId   -0.008136  0.000306 -0.045949 -0.023049  0.000208   -0.031437   \n",
      "Survived       0.145321  0.057935  0.016040 -0.026456 -0.316912    0.016639   \n",
      "Sex           -0.040340 -0.006655 -0.083285  0.020558  0.137396   -0.188583   \n",
      "Age            0.106600 -0.072644 -0.085977  0.032461 -0.271918   -0.196996   \n",
      "SibSp         -0.027180 -0.008619  0.006015 -0.013247  0.009064    0.861952   \n",
      "Parch          0.001084  0.020481  0.058325 -0.012304 -0.036806    0.792296   \n",
      "Fare           0.073949 -0.037567 -0.022857  0.001179 -0.507197    0.226465   \n",
      "Embarked_C     0.027566 -0.020010 -0.031566 -0.014095 -0.258257   -0.036553   \n",
      "Embarked_Q    -0.042877 -0.020282 -0.019941 -0.008904  0.142369   -0.087190   \n",
      "Embarked_S     0.002960  0.030575  0.040560  0.018111  0.137351    0.087771   \n",
      "Pclass_1       0.242963 -0.073083 -0.035441  0.048310 -0.776987   -0.029656   \n",
      "Pclass_2      -0.050210  0.127371 -0.032081 -0.014325  0.176485   -0.039976   \n",
      "Pclass_3      -0.169063 -0.041178  0.056964 -0.030057  0.527614    0.058430   \n",
      "Master         0.001860  0.058311 -0.013690 -0.006113  0.041178    0.355061   \n",
      "Miss           0.008700 -0.003088  0.061881 -0.013832 -0.004364    0.087350   \n",
      "Mr            -0.032953 -0.026403 -0.072514  0.023611  0.131807   -0.326487   \n",
      "Mrs            0.045538  0.013376  0.042547 -0.011742 -0.162253    0.157233   \n",
      "Officer       -0.024048 -0.017076 -0.008281 -0.003698 -0.067030   -0.026921   \n",
      "Royalty       -0.012202 -0.008665 -0.004202 -0.001876 -0.071672   -0.023600   \n",
      "Cabin_A       -0.023510 -0.016695 -0.008096 -0.003615 -0.242399   -0.042967   \n",
      "Cabin_B       -0.041103 -0.029188 -0.014154 -0.006320 -0.423794    0.032318   \n",
      "Cabin_C       -0.050016 -0.035516 -0.017224 -0.007691 -0.515684    0.037226   \n",
      "Cabin_D       -0.034317 -0.024369 -0.011817 -0.005277 -0.353822   -0.025313   \n",
      "Cabin_E        1.000000 -0.022961 -0.011135 -0.004972 -0.333381   -0.017285   \n",
      "Cabin_F       -0.022961  1.000000 -0.007907 -0.003531 -0.236733    0.005525   \n",
      "Cabin_G       -0.011135 -0.007907  1.000000 -0.001712 -0.114803    0.035835   \n",
      "Cabin_T       -0.004972 -0.003531 -0.001712  1.000000 -0.051263   -0.015438   \n",
      "Cabin_U       -0.333381 -0.236733 -0.114803 -0.051263  1.000000   -0.014155   \n",
      "FamilySize    -0.017285  0.005525  0.035835 -0.015438 -0.014155    1.000000   \n",
      "Family_Small  -0.042535  0.004055 -0.076397  0.022411  0.175812   -0.688864   \n",
      "Family_Medium  0.068007  0.012756  0.087471 -0.019574 -0.211367    0.302640   \n",
      "Family_Large  -0.046485 -0.033009 -0.016008 -0.007148  0.056438    0.801623   \n",
      "\n",
      "               Family_Small  Family_Medium  Family_Large  \n",
      "PassengerId        0.028546       0.002975     -0.063415  \n",
      "Survived          -0.203367       0.279855     -0.125147  \n",
      "Sex                0.284537      -0.255196     -0.077748  \n",
      "Age                0.116675      -0.038189     -0.161210  \n",
      "SibSp             -0.591077       0.253590      0.699681  \n",
      "Parch             -0.549022       0.248532      0.624627  \n",
      "Fare              -0.274826       0.197281      0.170853  \n",
      "Embarked_C        -0.107874       0.159594     -0.092825  \n",
      "Embarked_Q         0.127214      -0.122491     -0.018423  \n",
      "Embarked_S         0.014246      -0.062909      0.093671  \n",
      "Pclass_1          -0.126551       0.165965     -0.067523  \n",
      "Pclass_2          -0.035075       0.097270     -0.118495  \n",
      "Pclass_3           0.138250      -0.223338      0.155560  \n",
      "Master            -0.265355       0.120166      0.301809  \n",
      "Miss              -0.023890      -0.018085      0.083422  \n",
      "Mr                 0.386262      -0.300872     -0.194207  \n",
      "Mrs               -0.354649       0.361247      0.012893  \n",
      "Officer            0.013303       0.003966     -0.034572  \n",
      "Royalty            0.008761      -0.000073     -0.017542  \n",
      "Cabin_A            0.045227      -0.029546     -0.033799  \n",
      "Cabin_B           -0.087912       0.084268      0.013470  \n",
      "Cabin_C           -0.137498       0.141925      0.001362  \n",
      "Cabin_D           -0.074310       0.102432     -0.049336  \n",
      "Cabin_E           -0.042535       0.068007     -0.046485  \n",
      "Cabin_F            0.004055       0.012756     -0.033009  \n",
      "Cabin_G           -0.076397       0.087471     -0.016008  \n",
      "Cabin_T            0.022411      -0.019574     -0.007148  \n",
      "Cabin_U            0.175812      -0.211367      0.056438  \n",
      "FamilySize        -0.688864       0.302640      0.801623  \n",
      "Family_Small       1.000000      -0.873398     -0.318944  \n",
      "Family_Medium     -0.873398       1.000000     -0.183007  \n",
      "Family_Large      -0.318944      -0.183007      1.000000  \n",
      "\n",
      "[32 rows x 32 columns]\n",
      "Survived         1.000000\n",
      "Mrs              0.344935\n",
      "Miss             0.332795\n",
      "Pclass_1         0.285904\n",
      "Family_Medium    0.279855\n",
      "Fare             0.257307\n",
      "Cabin_B          0.175095\n",
      "Embarked_C       0.168240\n",
      "Cabin_D          0.150716\n",
      "Cabin_E          0.145321\n",
      "Cabin_C          0.114652\n",
      "Pclass_2         0.093349\n",
      "Master           0.085221\n",
      "Parch            0.081629\n",
      "Cabin_F          0.057935\n",
      "Royalty          0.033391\n",
      "Cabin_A          0.022287\n",
      "FamilySize       0.016639\n",
      "Cabin_G          0.016040\n",
      "Embarked_Q       0.003650\n",
      "PassengerId     -0.005007\n",
      "Cabin_T         -0.026456\n",
      "Officer         -0.031316\n",
      "SibSp           -0.035322\n",
      "Age             -0.070323\n",
      "Family_Large    -0.125147\n",
      "Embarked_S      -0.149683\n",
      "Family_Small    -0.203367\n",
      "Cabin_U         -0.316912\n",
      "Pclass_3        -0.322308\n",
      "Sex             -0.543351\n",
      "Mr              -0.549199\n"
     ]
    },
    {
     "name": "stdout",
     "output_type": "stream",
     "text": [
      "Name: Survived, dtype: float64\n"
     ]
    },
    {
     "data": {
      "image/png": "[encoded data removed]",
      "text/plain": [
       "<Figure size 432x288 with 1 Axes>"
      ]
     },
     "metadata": {
      "needs_background": "light"
     },
     "output_type": "display_data"
    }
   ],
   "source": [
    "# 相关系数：计算各个特征的相关系数\n",
    "corrDf = full.corr()\n",
    "print(corrDf)\n",
    "# 查看各个特征与Survived的相关系数，ascending=False表示按降序排列\n",
    "plt_corrDf = corrDf['Survived'].sort_values(ascending=False)\n",
    "print(plt_corrDf)\n",
    "\n",
    "plt.figure()\n",
    "plt.title(\"corrDf\")\n",
    "plt.bar(range(len(plt_corrDf)), plt_corrDf)\n",
    "plt.xticks(range(len(plt_corrDf)), plt_corrDf.keys(), rotation='vertical')\n",
    "plt.xlabel(\"特征\",fontsize=15)\n",
    "plt.ylabel(\"相关系数\",fontsize=15)\n",
    "plt.show()"
   ]
  },
  {
   "cell_type": "code",
   "execution_count": 12,
   "id": "3473f246",
   "metadata": {},
   "outputs": [
    {
     "name": "stdout",
     "output_type": "stream",
     "text": [
      "特征选择： (1309, 27)\n"
     ]
    }
   ],
   "source": [
    "# 特征选择\n",
    "full_x = pd.concat([titleDf,  # 头衔\n",
    "                    pclassDf,  # 客舱等级\n",
    "                    familyDf,  # 家庭大小\n",
    "                    full['Fare'],  # 船票价格\n",
    "                    cabinDf,  # 船舱号\n",
    "                    embarkedDf,  # 登船港口\n",
    "                    full['Sex']  # 性别\n",
    "                    ], axis=1)\n",
    "print(\"特征选择：\", full_x.shape)"
   ]
  },
  {
   "cell_type": "code",
   "execution_count": 13,
   "id": "533aea22",
   "metadata": {},
   "outputs": [
    {
     "name": "stdout",
     "output_type": "stream",
     "text": [
      "Survived\n",
      "0.0    22.696673\n",
      "1.0    48.537330\n",
      "Name: Fare, dtype: float64\n",
      "level          ≤10     10-30     30-50    50-100     100以上\n",
      "Survived                                                  \n",
      "遇难        0.794393  0.566978  0.635135  0.345794  0.264151\n",
      "存活        0.205607  0.433022  0.364865  0.654206  0.735849\n"
     ]
    },
    {
     "data": {
      "image/png": "[encoded data removed]",
      "text/plain": [
       "<Figure size 576x432 with 1 Axes>"
      ]
     },
     "metadata": {
      "needs_background": "light"
     },
     "output_type": "display_data"
    }
   ],
   "source": [
    "# 提取船票价格不为0的数据记录\n",
    "fare_df=full.loc[full['Fare']>0,['Survived','Fare']]\n",
    "\n",
    "#先来看下遇难/存活人员的平均票价\n",
    "print(fare_df.groupby('Survived')['Fare'].mean())\n",
    "\n",
    "#对票价分级\n",
    "bins=[0,10,30,50,100,513]\n",
    "labels=['≤10','10-30','30-50','50-100','100以上']\n",
    "fare_df['level']=pd.cut(fare_df['Fare'],bins=bins,labels=labels)\n",
    "\n",
    "# 按是否存活和票价等级分组\n",
    "fare_df=fare_df.groupby(['Survived','level']).size()\n",
    "\n",
    "# 转化成DataFrame\n",
    "fare_df=fare_df.unstack()\n",
    "fare_df=fare_df.rename(index={0:'遇难',1:'存活'})\n",
    "\n",
    "# 计算占比情况\n",
    "fare_prod=fare_df/fare_df.sum()\n",
    "print(fare_prod)\n",
    "\n",
    "fig=plt.figure(figsize=(8,6))#设置画布大小\n",
    "ax1=fig.add_subplot(1,1,1)#添加子图\n",
    "y=range(5)\n",
    "a=fare_prod.loc['遇难',:]\n",
    "b=fare_prod.loc['存活',:]\n",
    "ax1.barh(y,a,label='遇难',height=0.5,color='#03A2FF')\n",
    "ax1.barh(y,b,left=a,label='存活',height=0.5,color='#64C8FF')#通过left参数绘制堆积柱状图\n",
    "ax1.set_yticks(range(5))#设置y轴刻度\n",
    "ax1.set_yticklabels(['≤10','10-30','30-50','50-100','100以上'])#设置y轴刻度标签名称\n",
    "ax1.set_xticks([])#将x轴刻度设置为空\n",
    "ax1.legend(['遇难','存活'],loc='upper right')#设置图例名称及位置（upper/center/lower,left/center/right）\n",
    "ax1.set_title('不同票价等级存活分布')#设置标题\n",
    "#添加数据标签\n",
    "for x,y,z in zip(range(5),a,b):\n",
    "    ax1.text(y/2,x,'{:.1%}'.format(y))\n",
    "    ax1.text(y+z/2,x,'{:.1%}'.format(z))"
   ]
  },
  {
   "cell_type": "code",
   "execution_count": 14,
   "id": "185576e4",
   "metadata": {},
   "outputs": [
    {
     "data": {
      "image/png": "[encoded data removed]",
      "text/plain": [
       "<Figure size 432x432 with 1 Axes>"
      ]
     },
     "metadata": {
      "needs_background": "light"
     },
     "output_type": "display_data"
    }
   ],
   "source": [
    "#按生存情况和性别分组\n",
    "sex_df=full.groupby(['Survived','Sex']).size()\n",
    "\n",
    "#进一步将数据转化成DataFrame\n",
    "sex_df=sex_df.unstack('Sex')\n",
    "sex_df=sex_df.rename(index={0:'遇难',1:'存活'})\n",
    "\n",
    "sex_prod=sex_df/sex_df.sum()\n",
    "\n",
    "fig=plt.figure(figsize=(6,6))#设置画布大小\n",
    "ax1=fig.add_subplot(1,1,1)#添加子图\n",
    "x=range(2)\n",
    "a=sex_prod.loc['遇难',:]\n",
    "b=sex_prod.loc['存活',:]\n",
    "ax1.bar(x,a,label='遇难',color='#03A2FF')\n",
    "ax1.bar(x,b,bottom=a,label='存活',color='#64C8FF')#通过bottom参数绘制堆积柱状图\n",
    "ax1.set_xticks(range(2))#设置x轴刻度\n",
    "ax1.set_xticklabels(['female','male'])#设置x轴刻度标签名称\n",
    "ax1.set_yticks([])\n",
    "ax1.legend(['遇难','存活'],loc='upper right')#设置图例名称及位置（upper/center/lower,left/center/right）\n",
    "ax1.set_title('不同性别存活分布')#设置标题\n",
    "#添加数据标签\n",
    "for x,y,z in zip(range(2),a,b):\n",
    "    ax1.text(x,y/2,'{:.1%}'.format(y))\n",
    "    ax1.text(x,y+z/2,'{:.1%}'.format(z))"
   ]
  },
  {
   "cell_type": "code",
   "execution_count": 15,
   "id": "4851afad",
   "metadata": {},
   "outputs": [
    {
     "name": "stdout",
     "output_type": "stream",
     "text": [
      "原始数据集： 891\n",
      "预测数据集： 418\n"
     ]
    }
   ],
   "source": [
    "# 测试集里没有生存情况的值，不能用于评估模型，用做预测数据集\n",
    "# 从训练集里拆分出模型训练和模型评估的数据集\n",
    "# 原始数据集有891行\n",
    "sourceRow = 891\n",
    "source_X = full_x.loc[0:sourceRow-1, :]\n",
    "source_y = full.loc[0:sourceRow-1, 'Survived']\n",
    "pred_X = full_x.loc[sourceRow:, :]\n",
    "print('原始数据集：', source_X.shape[0])\n",
    "print('预测数据集：', pred_X.shape[0])"
   ]
  },
  {
   "cell_type": "code",
   "execution_count": 16,
   "id": "082336ad",
   "metadata": {},
   "outputs": [
    {
     "data": {
      "image/png": "[encoded data removed]",
      "text/plain": [
       "<Figure size 432x288 with 1 Axes>"
      ]
     },
     "metadata": {
      "needs_background": "light"
     },
     "output_type": "display_data"
    }
   ],
   "source": [
    "#建立模型用的训练数据集和测试数据集\n",
    "\n",
    "size=np.arange(0.6,1,0.1)\n",
    "scorelist=[[],[],[],[]]\n",
    "for i in range(0,4):\n",
    "    train_X, test_X, train_y, test_y = train_test_split(source_X ,\n",
    "                                                        source_y,\n",
    "                                                      train_size=size[i],\n",
    "                                                        random_state=5)\n",
    "    #逻辑回归\n",
    "    lr_model = LogisticRegression()\n",
    "    lr_model.fit( train_X , train_y )\n",
    "    scorelist[0].append(lr_model.score(test_X , test_y ))\n",
    "    \n",
    "    #支持向量机Support Vector Machines\n",
    "    svc_model = SVC()\n",
    "    svc_model.fit( train_X , train_y )\n",
    "    scorelist[1].append(svc_model.score(test_X , test_y ))\n",
    "\n",
    "    #决策树\n",
    "    dtc_model = DecisionTreeClassifier()\n",
    "    dtc_model.fit( train_X , train_y )\n",
    "    scorelist[2].append(dtc_model.score(test_X , test_y ))\n",
    "    \n",
    "    #随机森林Random Forests Model\n",
    "    rfc_model = RandomForestClassifier(n_estimators=100)\n",
    "    rfc_model.fit( train_X , train_y )\n",
    "    scorelist[3].append(rfc_model.score(test_X , test_y ))\n",
    "\n",
    "    # 分类问题，score得到的是模型的正确率\n",
    "    #print(model.score(test_X , test_y ))\n",
    "\n",
    "color_list = ('red', 'blue', 'lightgreen', 'cornflowerblue')\n",
    "for i in range(0,4):\n",
    "    plt.plot(size,scorelist[i],color=color_list[i])\n",
    "plt.legend(['逻辑回归','支持向量机', '决策树', '随机森林'])\n",
    "\n",
    "plt.xlabel('训练集占比')\n",
    "plt.ylabel('准确率')\n",
    "plt.title('不同的模型随着训练集占比变化曲线')\n",
    "plt.show()"
   ]
  },
  {
   "cell_type": "code",
   "execution_count": 17,
   "id": "bec0065d",
   "metadata": {},
   "outputs": [],
   "source": [
    "lr_y_predict = lr_model.predict(pred_X)\n",
    "lr_submission = pd.DataFrame({'PassengerId': test['PassengerId'], 'Survived': lr_y_predict})\n",
    "lr_submission.to_csv('lr_submission.csv', index=False)"
   ]
  },
  {
   "cell_type": "code",
   "execution_count": 18,
   "id": "97a5149a",
   "metadata": {},
   "outputs": [
    {
     "data": {
      "text/plain": [
       "\"\\nparams = {'max_depth': range(2, 7), 'n_estimators': range(100, 1100, 200), 'learning_rate': [0.05, 0.1, 0.25, 0.5, 1.0]}\\nxgbc_best = XGBClassifier()\\ngs = GridSearchCV(xgbc_best, params, n_jobs=-1, cv=5, verbose=1)\\ngs.fit(train_X, train_y)\\n\\nprint('gs====================')\\nprint(gs.best_score_) \\nprint(gs.best_params_)  \\n\\nxgbc_best_y_predict = gs.predict(pred_X)\\nxgbc_best_submission = pd.DataFrame({'PassengerId': test['PassengerId'], 'Survived': xgbc_best_y_predict})\\nxgbc_best_submission.to_csv('xgbc_best_submission.csv', index=False)\\n\""
      ]
     },
     "execution_count": 18,
     "metadata": {},
     "output_type": "execute_result"
    }
   ],
   "source": [
    "# 使用并行网格搜索的方式寻找更好的超参数组合，进一步提高XGBClassifier的预测性能\n",
    "'''\n",
    "params = {'max_depth': range(2, 7), 'n_estimators': range(100, 1100, 200), 'learning_rate': [0.05, 0.1, 0.25, 0.5, 1.0]}\n",
    "xgbc_best = XGBClassifier()\n",
    "gs = GridSearchCV(xgbc_best, params, n_jobs=-1, cv=5, verbose=1)\n",
    "gs.fit(train_X, train_y)\n",
    "\n",
    "print('gs====================')\n",
    "print(gs.best_score_) \n",
    "print(gs.best_params_)  \n",
    "\n",
    "xgbc_best_y_predict = gs.predict(pred_X)\n",
    "xgbc_best_submission = pd.DataFrame({'PassengerId': test['PassengerId'], 'Survived': xgbc_best_y_predict})\n",
    "xgbc_best_submission.to_csv('xgbc_best_submission.csv', index=False)\n",
    "'''"
   ]
  },
  {
   "cell_type": "code",
   "execution_count": null,
   "id": "402c9943",
   "metadata": {},
   "outputs": [],
   "source": []
  }
 ],
 "metadata": {
  "kernelspec": {
   "display_name": "Python 3 (ipykernel)",
   "language": "python",
   "name": "python3"
  },
  "language_info": {
   "codemirror_mode": {
    "name": "ipython",
    "version": 3
   },
   "file_extension": ".py",
   "mimetype": "text/x-python",
   "name": "python",
   "nbconvert_exporter": "python",
   "pygments_lexer": "ipython3",
   "version": "3.8.0"
  }
 },
 "nbformat": 4,
 "nbformat_minor": 5
}
